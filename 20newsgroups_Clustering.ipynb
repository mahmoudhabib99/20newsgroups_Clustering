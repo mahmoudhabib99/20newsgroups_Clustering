{
  "cells": [
    {
      "cell_type": "markdown",
      "metadata": {
        "id": "9zoXPYl9RhdA"
      },
      "source": [
        "# Unsupervised Learning (Advanced Clustering)\n",
        "\n",
        "For this lab we will use Scikit-Learn’s API, sklearn.datasets, which allows us to access a famous dataset for linguistic analysis, the 20newsgroups dataset. A newsgroup is an online user discussion group, such as a forum. Sklearn allows us to access different categories of content. We will use texts that have to do with technology, religion and sport.\n",
        "\n",
        "More details about the dataset: https://scikit-learn.org/0.19/datasets/twenty_newsgroups.html \n",
        "\n",
        "Your task is to perform clustering on the given dataset. \n",
        "\n",
        "**Submission: submit via onq.** \n"
      ]
    },
    {
      "cell_type": "markdown",
      "metadata": {
        "id": "3089SaULzeXh"
      },
      "source": [
        "##Read Dataset"
      ]
    },
    {
      "cell_type": "code",
      "execution_count": null,
      "metadata": {
        "id": "Iv_XLfVfzhbP"
      },
      "outputs": [],
      "source": [
        "from sklearn.datasets import fetch_20newsgroups"
      ]
    },
    {
      "cell_type": "code",
      "execution_count": null,
      "metadata": {
        "id": "WPK-IlG3zpFu"
      },
      "outputs": [],
      "source": [
        "categories = [ 'comp.graphics', 'comp.os.ms-windows.misc', 'rec.sport.baseball', 'rec.sport.hockey', 'alt.atheism', ]\n",
        "dataset = fetch_20newsgroups(subset='train', categories=categories, shuffle=True, remove=('headers', 'footers', 'quotes'))"
      ]
    },
    {
      "cell_type": "code",
      "execution_count": null,
      "metadata": {
        "id": "DNe6nC5A20gt"
      },
      "outputs": [],
      "source": [
        "import pandas as pd\n",
        "df = pd.DataFrame()\n",
        "df['category'] = dataset.data\n",
        "df['Target'] = dataset.target"
      ]
    },
    {
      "cell_type": "markdown",
      "metadata": {
        "id": "wP1Zal3u35v9"
      },
      "source": [
        "##Data Exploration"
      ]
    },
    {
      "cell_type": "code",
      "execution_count": null,
      "metadata": {
        "colab": {
          "base_uri": "https://localhost:8080/"
        },
        "id": "hOOIOxO03OS7",
        "outputId": "f02c8d10-7103-42f0-de0f-6a28ced6dae3"
      },
      "outputs": [
        {
          "data": {
            "text/plain": [
              "(2852, 2)"
            ]
          },
          "execution_count": 42,
          "metadata": {},
          "output_type": "execute_result"
        }
      ],
      "source": [
        "df.shape"
      ]
    },
    {
      "cell_type": "code",
      "execution_count": null,
      "metadata": {
        "colab": {
          "base_uri": "https://localhost:8080/"
        },
        "id": "SziT5M8U3XT4",
        "outputId": "dbd13e6d-bf10-4eef-ccc0-7095da02a601"
      },
      "outputs": [
        {
          "name": "stdout",
          "output_type": "stream",
          "text": [
            "<class 'pandas.core.frame.DataFrame'>\n",
            "RangeIndex: 2852 entries, 0 to 2851\n",
            "Data columns (total 2 columns):\n",
            " #   Column    Non-Null Count  Dtype \n",
            "---  ------    --------------  ----- \n",
            " 0   category  2852 non-null   object\n",
            " 1   Target    2852 non-null   int64 \n",
            "dtypes: int64(1), object(1)\n",
            "memory usage: 44.7+ KB\n"
          ]
        }
      ],
      "source": [
        "df.info()"
      ]
    },
    {
      "cell_type": "code",
      "execution_count": null,
      "metadata": {
        "colab": {
          "base_uri": "https://localhost:8080/"
        },
        "id": "CjMWhn4C3Z4-",
        "outputId": "0b8fbe9b-3d98-4b67-82e1-7aa97eec496f"
      },
      "outputs": [
        {
          "data": {
            "text/html": [
              "\n",
              "  <div id=\"df-d4fd4725-2a00-4c0d-962a-8eb632591f9e\">\n",
              "    <div class=\"colab-df-container\">\n",
              "      <div>\n",
              "<style scoped>\n",
              "    .dataframe tbody tr th:only-of-type {\n",
              "        vertical-align: middle;\n",
              "    }\n",
              "\n",
              "    .dataframe tbody tr th {\n",
              "        vertical-align: top;\n",
              "    }\n",
              "\n",
              "    .dataframe thead th {\n",
              "        text-align: right;\n",
              "    }\n",
              "</style>\n",
              "<table border=\"1\" class=\"dataframe\">\n",
              "  <thead>\n",
              "    <tr style=\"text-align: right;\">\n",
              "      <th></th>\n",
              "      <th>category</th>\n",
              "      <th>Target</th>\n",
              "    </tr>\n",
              "  </thead>\n",
              "  <tbody>\n",
              "    <tr>\n",
              "      <th>0</th>\n",
              "      <td>I just moved from Borland C++ 3.0 to Visual C+...</td>\n",
              "      <td>2</td>\n",
              "    </tr>\n",
              "    <tr>\n",
              "      <th>1</th>\n",
              "      <td>\\n: \\tNice cop out bill.\\n\\nI'm sure you're ri...</td>\n",
              "      <td>0</td>\n",
              "    </tr>\n",
              "    <tr>\n",
              "      <th>2</th>\n",
              "      <td>I'm attempting to transfer files from my home ...</td>\n",
              "      <td>2</td>\n",
              "    </tr>\n",
              "    <tr>\n",
              "      <th>3</th>\n",
              "      <td>\\nThen not murdering would have no moral signi...</td>\n",
              "      <td>0</td>\n",
              "    </tr>\n",
              "    <tr>\n",
              "      <th>4</th>\n",
              "      <td>\\nI could give much the same testimonial about...</td>\n",
              "      <td>0</td>\n",
              "    </tr>\n",
              "  </tbody>\n",
              "</table>\n",
              "</div>\n",
              "      <button class=\"colab-df-convert\" onclick=\"convertToInteractive('df-d4fd4725-2a00-4c0d-962a-8eb632591f9e')\"\n",
              "              title=\"Convert this dataframe to an interactive table.\"\n",
              "              style=\"display:none;\">\n",
              "        \n",
              "  <svg xmlns=\"http://www.w3.org/2000/svg\" height=\"24px\"viewBox=\"0 0 24 24\"\n",
              "       width=\"24px\">\n",
              "    <path d=\"M0 0h24v24H0V0z\" fill=\"none\"/>\n",
              "    <path d=\"M18.56 5.44l.94 2.06.94-2.06 2.06-.94-2.06-.94-.94-2.06-.94 2.06-2.06.94zm-11 1L8.5 8.5l.94-2.06 2.06-.94-2.06-.94L8.5 2.5l-.94 2.06-2.06.94zm10 10l.94 2.06.94-2.06 2.06-.94-2.06-.94-.94-2.06-.94 2.06-2.06.94z\"/><path d=\"M17.41 7.96l-1.37-1.37c-.4-.4-.92-.59-1.43-.59-.52 0-1.04.2-1.43.59L10.3 9.45l-7.72 7.72c-.78.78-.78 2.05 0 2.83L4 21.41c.39.39.9.59 1.41.59.51 0 1.02-.2 1.41-.59l7.78-7.78 2.81-2.81c.8-.78.8-2.07 0-2.86zM5.41 20L4 18.59l7.72-7.72 1.47 1.35L5.41 20z\"/>\n",
              "  </svg>\n",
              "      </button>\n",
              "      \n",
              "  <style>\n",
              "    .colab-df-container {\n",
              "      display:flex;\n",
              "      flex-wrap:wrap;\n",
              "      gap: 12px;\n",
              "    }\n",
              "\n",
              "    .colab-df-convert {\n",
              "      background-color: #E8F0FE;\n",
              "      border: none;\n",
              "      border-radius: 50%;\n",
              "      cursor: pointer;\n",
              "      display: none;\n",
              "      fill: #1967D2;\n",
              "      height: 32px;\n",
              "      padding: 0 0 0 0;\n",
              "      width: 32px;\n",
              "    }\n",
              "\n",
              "    .colab-df-convert:hover {\n",
              "      background-color: #E2EBFA;\n",
              "      box-shadow: 0px 1px 2px rgba(60, 64, 67, 0.3), 0px 1px 3px 1px rgba(60, 64, 67, 0.15);\n",
              "      fill: #174EA6;\n",
              "    }\n",
              "\n",
              "    [theme=dark] .colab-df-convert {\n",
              "      background-color: #3B4455;\n",
              "      fill: #D2E3FC;\n",
              "    }\n",
              "\n",
              "    [theme=dark] .colab-df-convert:hover {\n",
              "      background-color: #434B5C;\n",
              "      box-shadow: 0px 1px 3px 1px rgba(0, 0, 0, 0.15);\n",
              "      filter: drop-shadow(0px 1px 2px rgba(0, 0, 0, 0.3));\n",
              "      fill: #FFFFFF;\n",
              "    }\n",
              "  </style>\n",
              "\n",
              "      <script>\n",
              "        const buttonEl =\n",
              "          document.querySelector('#df-d4fd4725-2a00-4c0d-962a-8eb632591f9e button.colab-df-convert');\n",
              "        buttonEl.style.display =\n",
              "          google.colab.kernel.accessAllowed ? 'block' : 'none';\n",
              "\n",
              "        async function convertToInteractive(key) {\n",
              "          const element = document.querySelector('#df-d4fd4725-2a00-4c0d-962a-8eb632591f9e');\n",
              "          const dataTable =\n",
              "            await google.colab.kernel.invokeFunction('convertToInteractive',\n",
              "                                                     [key], {});\n",
              "          if (!dataTable) return;\n",
              "\n",
              "          const docLinkHtml = 'Like what you see? Visit the ' +\n",
              "            '<a target=\"_blank\" href=https://colab.research.google.com/notebooks/data_table.ipynb>data table notebook</a>'\n",
              "            + ' to learn more about interactive tables.';\n",
              "          element.innerHTML = '';\n",
              "          dataTable['output_type'] = 'display_data';\n",
              "          await google.colab.output.renderOutput(dataTable, element);\n",
              "          const docLink = document.createElement('div');\n",
              "          docLink.innerHTML = docLinkHtml;\n",
              "          element.appendChild(docLink);\n",
              "        }\n",
              "      </script>\n",
              "    </div>\n",
              "  </div>\n",
              "  "
            ],
            "text/plain": [
              "                                            category  Target\n",
              "0  I just moved from Borland C++ 3.0 to Visual C+...       2\n",
              "1  \\n: \\tNice cop out bill.\\n\\nI'm sure you're ri...       0\n",
              "2  I'm attempting to transfer files from my home ...       2\n",
              "3  \\nThen not murdering would have no moral signi...       0\n",
              "4  \\nI could give much the same testimonial about...       0"
            ]
          },
          "execution_count": 44,
          "metadata": {},
          "output_type": "execute_result"
        }
      ],
      "source": [
        "df.head()"
      ]
    },
    {
      "cell_type": "code",
      "execution_count": null,
      "metadata": {
        "colab": {
          "base_uri": "https://localhost:8080/"
        },
        "id": "K5DI1wqP4A1j",
        "outputId": "3ef56ae9-9afc-4987-cb11-1727cd155dae"
      },
      "outputs": [
        {
          "data": {
            "text/html": [
              "\n",
              "  <div id=\"df-5f69936f-cbbb-460a-9e28-8a417eb8788d\">\n",
              "    <div class=\"colab-df-container\">\n",
              "      <div>\n",
              "<style scoped>\n",
              "    .dataframe tbody tr th:only-of-type {\n",
              "        vertical-align: middle;\n",
              "    }\n",
              "\n",
              "    .dataframe tbody tr th {\n",
              "        vertical-align: top;\n",
              "    }\n",
              "\n",
              "    .dataframe thead th {\n",
              "        text-align: right;\n",
              "    }\n",
              "</style>\n",
              "<table border=\"1\" class=\"dataframe\">\n",
              "  <thead>\n",
              "    <tr style=\"text-align: right;\">\n",
              "      <th></th>\n",
              "      <th>Target</th>\n",
              "    </tr>\n",
              "  </thead>\n",
              "  <tbody>\n",
              "    <tr>\n",
              "      <th>count</th>\n",
              "      <td>2852.000000</td>\n",
              "    </tr>\n",
              "    <tr>\n",
              "      <th>mean</th>\n",
              "      <td>2.088710</td>\n",
              "    </tr>\n",
              "    <tr>\n",
              "      <th>std</th>\n",
              "      <td>1.386227</td>\n",
              "    </tr>\n",
              "    <tr>\n",
              "      <th>min</th>\n",
              "      <td>0.000000</td>\n",
              "    </tr>\n",
              "    <tr>\n",
              "      <th>25%</th>\n",
              "      <td>1.000000</td>\n",
              "    </tr>\n",
              "    <tr>\n",
              "      <th>50%</th>\n",
              "      <td>2.000000</td>\n",
              "    </tr>\n",
              "    <tr>\n",
              "      <th>75%</th>\n",
              "      <td>3.000000</td>\n",
              "    </tr>\n",
              "    <tr>\n",
              "      <th>max</th>\n",
              "      <td>4.000000</td>\n",
              "    </tr>\n",
              "  </tbody>\n",
              "</table>\n",
              "</div>\n",
              "      <button class=\"colab-df-convert\" onclick=\"convertToInteractive('df-5f69936f-cbbb-460a-9e28-8a417eb8788d')\"\n",
              "              title=\"Convert this dataframe to an interactive table.\"\n",
              "              style=\"display:none;\">\n",
              "        \n",
              "  <svg xmlns=\"http://www.w3.org/2000/svg\" height=\"24px\"viewBox=\"0 0 24 24\"\n",
              "       width=\"24px\">\n",
              "    <path d=\"M0 0h24v24H0V0z\" fill=\"none\"/>\n",
              "    <path d=\"M18.56 5.44l.94 2.06.94-2.06 2.06-.94-2.06-.94-.94-2.06-.94 2.06-2.06.94zm-11 1L8.5 8.5l.94-2.06 2.06-.94-2.06-.94L8.5 2.5l-.94 2.06-2.06.94zm10 10l.94 2.06.94-2.06 2.06-.94-2.06-.94-.94-2.06-.94 2.06-2.06.94z\"/><path d=\"M17.41 7.96l-1.37-1.37c-.4-.4-.92-.59-1.43-.59-.52 0-1.04.2-1.43.59L10.3 9.45l-7.72 7.72c-.78.78-.78 2.05 0 2.83L4 21.41c.39.39.9.59 1.41.59.51 0 1.02-.2 1.41-.59l7.78-7.78 2.81-2.81c.8-.78.8-2.07 0-2.86zM5.41 20L4 18.59l7.72-7.72 1.47 1.35L5.41 20z\"/>\n",
              "  </svg>\n",
              "      </button>\n",
              "      \n",
              "  <style>\n",
              "    .colab-df-container {\n",
              "      display:flex;\n",
              "      flex-wrap:wrap;\n",
              "      gap: 12px;\n",
              "    }\n",
              "\n",
              "    .colab-df-convert {\n",
              "      background-color: #E8F0FE;\n",
              "      border: none;\n",
              "      border-radius: 50%;\n",
              "      cursor: pointer;\n",
              "      display: none;\n",
              "      fill: #1967D2;\n",
              "      height: 32px;\n",
              "      padding: 0 0 0 0;\n",
              "      width: 32px;\n",
              "    }\n",
              "\n",
              "    .colab-df-convert:hover {\n",
              "      background-color: #E2EBFA;\n",
              "      box-shadow: 0px 1px 2px rgba(60, 64, 67, 0.3), 0px 1px 3px 1px rgba(60, 64, 67, 0.15);\n",
              "      fill: #174EA6;\n",
              "    }\n",
              "\n",
              "    [theme=dark] .colab-df-convert {\n",
              "      background-color: #3B4455;\n",
              "      fill: #D2E3FC;\n",
              "    }\n",
              "\n",
              "    [theme=dark] .colab-df-convert:hover {\n",
              "      background-color: #434B5C;\n",
              "      box-shadow: 0px 1px 3px 1px rgba(0, 0, 0, 0.15);\n",
              "      filter: drop-shadow(0px 1px 2px rgba(0, 0, 0, 0.3));\n",
              "      fill: #FFFFFF;\n",
              "    }\n",
              "  </style>\n",
              "\n",
              "      <script>\n",
              "        const buttonEl =\n",
              "          document.querySelector('#df-5f69936f-cbbb-460a-9e28-8a417eb8788d button.colab-df-convert');\n",
              "        buttonEl.style.display =\n",
              "          google.colab.kernel.accessAllowed ? 'block' : 'none';\n",
              "\n",
              "        async function convertToInteractive(key) {\n",
              "          const element = document.querySelector('#df-5f69936f-cbbb-460a-9e28-8a417eb8788d');\n",
              "          const dataTable =\n",
              "            await google.colab.kernel.invokeFunction('convertToInteractive',\n",
              "                                                     [key], {});\n",
              "          if (!dataTable) return;\n",
              "\n",
              "          const docLinkHtml = 'Like what you see? Visit the ' +\n",
              "            '<a target=\"_blank\" href=https://colab.research.google.com/notebooks/data_table.ipynb>data table notebook</a>'\n",
              "            + ' to learn more about interactive tables.';\n",
              "          element.innerHTML = '';\n",
              "          dataTable['output_type'] = 'display_data';\n",
              "          await google.colab.output.renderOutput(dataTable, element);\n",
              "          const docLink = document.createElement('div');\n",
              "          docLink.innerHTML = docLinkHtml;\n",
              "          element.appendChild(docLink);\n",
              "        }\n",
              "      </script>\n",
              "    </div>\n",
              "  </div>\n",
              "  "
            ],
            "text/plain": [
              "            Target\n",
              "count  2852.000000\n",
              "mean      2.088710\n",
              "std       1.386227\n",
              "min       0.000000\n",
              "25%       1.000000\n",
              "50%       2.000000\n",
              "75%       3.000000\n",
              "max       4.000000"
            ]
          },
          "execution_count": 45,
          "metadata": {},
          "output_type": "execute_result"
        }
      ],
      "source": [
        "df.describe()"
      ]
    },
    {
      "cell_type": "code",
      "execution_count": null,
      "metadata": {
        "colab": {
          "base_uri": "https://localhost:8080/"
        },
        "id": "r9yt6f8l4JaL",
        "outputId": "09052314-a1d3-443d-a517-ee7d3da50c8b"
      },
      "outputs": [
        {
          "data": {
            "text/plain": [
              "category    0\n",
              "Target      0\n",
              "dtype: int64"
            ]
          },
          "execution_count": 46,
          "metadata": {},
          "output_type": "execute_result"
        }
      ],
      "source": [
        "df.isnull().sum()"
      ]
    },
    {
      "cell_type": "code",
      "execution_count": null,
      "metadata": {
        "colab": {
          "base_uri": "https://localhost:8080/"
        },
        "id": "z4Tvi1m84RKK",
        "outputId": "2d169231-af3f-4b45-946f-46ef408db225"
      },
      "outputs": [
        {
          "data": {
            "text/plain": [
              "True"
            ]
          },
          "execution_count": 47,
          "metadata": {},
          "output_type": "execute_result"
        }
      ],
      "source": [
        "df.duplicated().any()"
      ]
    },
    {
      "cell_type": "code",
      "execution_count": null,
      "metadata": {
        "colab": {
          "base_uri": "https://localhost:8080/"
        },
        "id": "z6G45IGV4dEh",
        "outputId": "eaaa1fd3-639a-4505-d46a-e9f118c49947"
      },
      "outputs": [
        {
          "data": {
            "text/plain": [
              "0       False\n",
              "1       False\n",
              "2       False\n",
              "3       False\n",
              "4       False\n",
              "        ...  \n",
              "2847    False\n",
              "2848    False\n",
              "2849    False\n",
              "2850    False\n",
              "2851    False\n",
              "Length: 2852, dtype: bool"
            ]
          },
          "execution_count": 48,
          "metadata": {},
          "output_type": "execute_result"
        }
      ],
      "source": [
        "df.duplicated(subset = None)"
      ]
    },
    {
      "cell_type": "code",
      "execution_count": null,
      "metadata": {
        "colab": {
          "base_uri": "https://localhost:8080/"
        },
        "id": "KVWmZAFX4pV1",
        "outputId": "10d38eeb-9470-4af5-818a-8c91cd0ff773"
      },
      "outputs": [
        {
          "data": {
            "text/html": [
              "\n",
              "  <div id=\"df-73b5b017-4abc-4c32-a8e8-a49a4b14ef7f\">\n",
              "    <div class=\"colab-df-container\">\n",
              "      <div>\n",
              "<style scoped>\n",
              "    .dataframe tbody tr th:only-of-type {\n",
              "        vertical-align: middle;\n",
              "    }\n",
              "\n",
              "    .dataframe tbody tr th {\n",
              "        vertical-align: top;\n",
              "    }\n",
              "\n",
              "    .dataframe thead th {\n",
              "        text-align: right;\n",
              "    }\n",
              "</style>\n",
              "<table border=\"1\" class=\"dataframe\">\n",
              "  <thead>\n",
              "    <tr style=\"text-align: right;\">\n",
              "      <th></th>\n",
              "      <th>category</th>\n",
              "      <th>Target</th>\n",
              "    </tr>\n",
              "  </thead>\n",
              "  <tbody>\n",
              "    <tr>\n",
              "      <th>42</th>\n",
              "      <td></td>\n",
              "      <td>1</td>\n",
              "    </tr>\n",
              "    <tr>\n",
              "      <th>276</th>\n",
              "      <td></td>\n",
              "      <td>1</td>\n",
              "    </tr>\n",
              "    <tr>\n",
              "      <th>364</th>\n",
              "      <td></td>\n",
              "      <td>3</td>\n",
              "    </tr>\n",
              "    <tr>\n",
              "      <th>373</th>\n",
              "      <td>\\n</td>\n",
              "      <td>3</td>\n",
              "    </tr>\n",
              "    <tr>\n",
              "      <th>378</th>\n",
              "      <td></td>\n",
              "      <td>1</td>\n",
              "    </tr>\n",
              "    <tr>\n",
              "      <th>...</th>\n",
              "      <td>...</td>\n",
              "      <td>...</td>\n",
              "    </tr>\n",
              "    <tr>\n",
              "      <th>2729</th>\n",
              "      <td></td>\n",
              "      <td>3</td>\n",
              "    </tr>\n",
              "    <tr>\n",
              "      <th>2734</th>\n",
              "      <td></td>\n",
              "      <td>4</td>\n",
              "    </tr>\n",
              "    <tr>\n",
              "      <th>2769</th>\n",
              "      <td></td>\n",
              "      <td>3</td>\n",
              "    </tr>\n",
              "    <tr>\n",
              "      <th>2789</th>\n",
              "      <td></td>\n",
              "      <td>2</td>\n",
              "    </tr>\n",
              "    <tr>\n",
              "      <th>2820</th>\n",
              "      <td></td>\n",
              "      <td>3</td>\n",
              "    </tr>\n",
              "  </tbody>\n",
              "</table>\n",
              "<p>72 rows × 2 columns</p>\n",
              "</div>\n",
              "      <button class=\"colab-df-convert\" onclick=\"convertToInteractive('df-73b5b017-4abc-4c32-a8e8-a49a4b14ef7f')\"\n",
              "              title=\"Convert this dataframe to an interactive table.\"\n",
              "              style=\"display:none;\">\n",
              "        \n",
              "  <svg xmlns=\"http://www.w3.org/2000/svg\" height=\"24px\"viewBox=\"0 0 24 24\"\n",
              "       width=\"24px\">\n",
              "    <path d=\"M0 0h24v24H0V0z\" fill=\"none\"/>\n",
              "    <path d=\"M18.56 5.44l.94 2.06.94-2.06 2.06-.94-2.06-.94-.94-2.06-.94 2.06-2.06.94zm-11 1L8.5 8.5l.94-2.06 2.06-.94-2.06-.94L8.5 2.5l-.94 2.06-2.06.94zm10 10l.94 2.06.94-2.06 2.06-.94-2.06-.94-.94-2.06-.94 2.06-2.06.94z\"/><path d=\"M17.41 7.96l-1.37-1.37c-.4-.4-.92-.59-1.43-.59-.52 0-1.04.2-1.43.59L10.3 9.45l-7.72 7.72c-.78.78-.78 2.05 0 2.83L4 21.41c.39.39.9.59 1.41.59.51 0 1.02-.2 1.41-.59l7.78-7.78 2.81-2.81c.8-.78.8-2.07 0-2.86zM5.41 20L4 18.59l7.72-7.72 1.47 1.35L5.41 20z\"/>\n",
              "  </svg>\n",
              "      </button>\n",
              "      \n",
              "  <style>\n",
              "    .colab-df-container {\n",
              "      display:flex;\n",
              "      flex-wrap:wrap;\n",
              "      gap: 12px;\n",
              "    }\n",
              "\n",
              "    .colab-df-convert {\n",
              "      background-color: #E8F0FE;\n",
              "      border: none;\n",
              "      border-radius: 50%;\n",
              "      cursor: pointer;\n",
              "      display: none;\n",
              "      fill: #1967D2;\n",
              "      height: 32px;\n",
              "      padding: 0 0 0 0;\n",
              "      width: 32px;\n",
              "    }\n",
              "\n",
              "    .colab-df-convert:hover {\n",
              "      background-color: #E2EBFA;\n",
              "      box-shadow: 0px 1px 2px rgba(60, 64, 67, 0.3), 0px 1px 3px 1px rgba(60, 64, 67, 0.15);\n",
              "      fill: #174EA6;\n",
              "    }\n",
              "\n",
              "    [theme=dark] .colab-df-convert {\n",
              "      background-color: #3B4455;\n",
              "      fill: #D2E3FC;\n",
              "    }\n",
              "\n",
              "    [theme=dark] .colab-df-convert:hover {\n",
              "      background-color: #434B5C;\n",
              "      box-shadow: 0px 1px 3px 1px rgba(0, 0, 0, 0.15);\n",
              "      filter: drop-shadow(0px 1px 2px rgba(0, 0, 0, 0.3));\n",
              "      fill: #FFFFFF;\n",
              "    }\n",
              "  </style>\n",
              "\n",
              "      <script>\n",
              "        const buttonEl =\n",
              "          document.querySelector('#df-73b5b017-4abc-4c32-a8e8-a49a4b14ef7f button.colab-df-convert');\n",
              "        buttonEl.style.display =\n",
              "          google.colab.kernel.accessAllowed ? 'block' : 'none';\n",
              "\n",
              "        async function convertToInteractive(key) {\n",
              "          const element = document.querySelector('#df-73b5b017-4abc-4c32-a8e8-a49a4b14ef7f');\n",
              "          const dataTable =\n",
              "            await google.colab.kernel.invokeFunction('convertToInteractive',\n",
              "                                                     [key], {});\n",
              "          if (!dataTable) return;\n",
              "\n",
              "          const docLinkHtml = 'Like what you see? Visit the ' +\n",
              "            '<a target=\"_blank\" href=https://colab.research.google.com/notebooks/data_table.ipynb>data table notebook</a>'\n",
              "            + ' to learn more about interactive tables.';\n",
              "          element.innerHTML = '';\n",
              "          dataTable['output_type'] = 'display_data';\n",
              "          await google.colab.output.renderOutput(dataTable, element);\n",
              "          const docLink = document.createElement('div');\n",
              "          docLink.innerHTML = docLinkHtml;\n",
              "          element.appendChild(docLink);\n",
              "        }\n",
              "      </script>\n",
              "    </div>\n",
              "  </div>\n",
              "  "
            ],
            "text/plain": [
              "     category  Target\n",
              "42                  1\n",
              "276                 1\n",
              "364                 3\n",
              "373        \\n       3\n",
              "378                 1\n",
              "...       ...     ...\n",
              "2729                3\n",
              "2734                4\n",
              "2769                3\n",
              "2789                2\n",
              "2820                3\n",
              "\n",
              "[72 rows x 2 columns]"
            ]
          },
          "execution_count": 49,
          "metadata": {},
          "output_type": "execute_result"
        }
      ],
      "source": [
        "df[df.duplicated(subset = None)]"
      ]
    },
    {
      "cell_type": "code",
      "execution_count": null,
      "metadata": {
        "colab": {
          "base_uri": "https://localhost:8080/"
        },
        "id": "zqm8dUNo4s8J",
        "outputId": "0109a9d0-b3dc-48c8-c9ae-0c5bfec176e4"
      },
      "outputs": [
        {
          "data": {
            "text/plain": [
              "72"
            ]
          },
          "execution_count": 50,
          "metadata": {},
          "output_type": "execute_result"
        }
      ],
      "source": [
        "#checking for number of duplications\n",
        "df.duplicated().sum()"
      ]
    },
    {
      "cell_type": "code",
      "execution_count": null,
      "metadata": {
        "id": "5VLhb1OH4-Vn"
      },
      "outputs": [],
      "source": [
        "# dropping ALL duplicate values\n",
        "df = df.drop_duplicates()"
      ]
    },
    {
      "cell_type": "code",
      "execution_count": null,
      "metadata": {
        "colab": {
          "base_uri": "https://localhost:8080/"
        },
        "id": "EXUipVdS5BS_",
        "outputId": "a304ef6d-546f-4670-80d2-475d0212704a"
      },
      "outputs": [
        {
          "data": {
            "text/plain": [
              "(2780, 2)"
            ]
          },
          "execution_count": 52,
          "metadata": {},
          "output_type": "execute_result"
        }
      ],
      "source": [
        "df.shape"
      ]
    },
    {
      "cell_type": "code",
      "execution_count": null,
      "metadata": {
        "colab": {
          "base_uri": "https://localhost:8080/"
        },
        "id": "0cxiHRFF5E_R",
        "outputId": "544f51f1-ebdb-4813-c1c5-8683877a98c0"
      },
      "outputs": [
        {
          "data": {
            "text/plain": [
              "4    588\n",
              "3    578\n",
              "1    573\n",
              "2    571\n",
              "0    470\n",
              "Name: Target, dtype: int64"
            ]
          },
          "execution_count": 53,
          "metadata": {},
          "output_type": "execute_result"
        }
      ],
      "source": [
        "df['Target'].value_counts()"
      ]
    },
    {
      "cell_type": "code",
      "execution_count": null,
      "metadata": {
        "id": "YWhHhs196g-E"
      },
      "outputs": [],
      "source": [
        "import seaborn as sns\n",
        "import matplotlib.pyplot as plt"
      ]
    },
    {
      "cell_type": "code",
      "execution_count": null,
      "metadata": {
        "colab": {
          "base_uri": "https://localhost:8080/"
        },
        "id": "DbmbTbVr5xja",
        "outputId": "b285e37c-f137-4634-a475-2e54f72dea32"
      },
      "outputs": [
        {
          "data": {
            "image/png": "[encoded data removed]",
            "text/plain": [
              "<Figure size 432x288 with 1 Axes>"
            ]
          },
          "metadata": {},
          "output_type": "display_data"
        }
      ],
      "source": [
        "plt.figure()\n",
        "sns.histplot(df['Target'])\n",
        "plt.show()"
      ]
    },
    {
      "cell_type": "markdown",
      "metadata": {
        "id": "EUltNjYn7dA0"
      },
      "source": [
        "##Data cleaning"
      ]
    },
    {
      "cell_type": "code",
      "execution_count": null,
      "metadata": {
        "id": "ZL7MZdQoRhdl"
      },
      "outputs": [],
      "source": [
        "import nltk\n",
        "import re"
      ]
    },
    {
      "cell_type": "code",
      "execution_count": null,
      "metadata": {
        "colab": {
          "base_uri": "https://localhost:8080/"
        },
        "id": "KVMVQfUt8LEv",
        "outputId": "dfc2e65f-ee2f-4603-e2b7-ee6497f7042a"
      },
      "outputs": [
        {
          "name": "stderr",
          "output_type": "stream",
          "text": [
            "[nltk_data] Downloading package stopwords to /root/nltk_data...\n",
            "[nltk_data]   Package stopwords is already up-to-date!\n",
            "[nltk_data] Downloading package punkt to /root/nltk_data...\n",
            "[nltk_data]   Package punkt is already up-to-date!\n"
          ]
        },
        {
          "data": {
            "text/plain": [
              "True"
            ]
          },
          "execution_count": 57,
          "metadata": {},
          "output_type": "execute_result"
        }
      ],
      "source": [
        "nltk.download(\"stopwords\")\n",
        "nltk.download('punkt')"
      ]
    },
    {
      "cell_type": "code",
      "execution_count": null,
      "metadata": {
        "id": "jvSgLx8YHBdO"
      },
      "outputs": [],
      "source": [
        "from nltk.stem.snowball import SnowballStemmer\n",
        "from nltk.corpus import stopwords\n",
        "from nltk.tokenize import word_tokenize"
      ]
    },
    {
      "cell_type": "code",
      "execution_count": null,
      "metadata": {
        "id": "k0oKwQuH8LhB"
      },
      "outputs": [],
      "source": [
        "#Text cleaning\n",
        "stemmer = SnowballStemmer(language='english')\n",
        "stop_words = set(stopwords.words(\"english\"))\n",
        "\n",
        "def preprocess_text(text):\n",
        "    text = text.lower()\n",
        "    #remove whitespaces\n",
        "    text = re.sub(r\"\\s+\", \" \", text)\n",
        "    #remove tags\n",
        "    text = re.sub(r\"<[^>]+>\", \" \", text)\n",
        "    #ASCII\n",
        "    text = re.sub(r\"[^A-Za-z]\", \" \", text)\n",
        "    #remove SINGLECHAR\n",
        "    text = re.sub(r\"\\b[A-Za-z]\\b\", \" \", text)\n",
        "    # remove links\n",
        "    text = re.sub(r\"http\\S+\", \" \", text)\n",
        "    word_tokens = word_tokenize(text)\n",
        "    words_tokens_lower = [word.lower() for word in word_tokens]\n",
        "    words_filtered=[stemmer.stem(word) for word in words_tokens_lower if word not in stop_words]\n",
        "    text_clean = ' '.join(words_filtered)\n",
        "    return text_clean"
      ]
    },
    {
      "cell_type": "code",
      "execution_count": null,
      "metadata": {
        "id": "xfS0ehLbHZNG"
      },
      "outputs": [],
      "source": [
        "df['category_clean'] = df['category'].apply(preprocess_text)"
      ]
    },
    {
      "cell_type": "code",
      "execution_count": null,
      "metadata": {
        "colab": {
          "base_uri": "https://localhost:8080/",
          "height": 206
        },
        "id": "z9erZHu9H6jP",
        "outputId": "c3d86574-eeac-4ac2-8dc6-2693bcbefbb4"
      },
      "outputs": [
        {
          "data": {
            "text/html": [
              "\n",
              "  <div id=\"df-3191a66a-5b14-493b-9b4e-9a024c8bb282\">\n",
              "    <div class=\"colab-df-container\">\n",
              "      <div>\n",
              "<style scoped>\n",
              "    .dataframe tbody tr th:only-of-type {\n",
              "        vertical-align: middle;\n",
              "    }\n",
              "\n",
              "    .dataframe tbody tr th {\n",
              "        vertical-align: top;\n",
              "    }\n",
              "\n",
              "    .dataframe thead th {\n",
              "        text-align: right;\n",
              "    }\n",
              "</style>\n",
              "<table border=\"1\" class=\"dataframe\">\n",
              "  <thead>\n",
              "    <tr style=\"text-align: right;\">\n",
              "      <th></th>\n",
              "      <th>category</th>\n",
              "      <th>Target</th>\n",
              "      <th>category_clean</th>\n",
              "    </tr>\n",
              "  </thead>\n",
              "  <tbody>\n",
              "    <tr>\n",
              "      <th>0</th>\n",
              "      <td>I just moved from Borland C++ 3.0 to Visual C+...</td>\n",
              "      <td>2</td>\n",
              "      <td>move borland visual today tri compil program c...</td>\n",
              "    </tr>\n",
              "    <tr>\n",
              "      <th>1</th>\n",
              "      <td>\\n: \\tNice cop out bill.\\n\\nI'm sure you're ri...</td>\n",
              "      <td>0</td>\n",
              "      <td>nice cop bill sure right idea refer would mind...</td>\n",
              "    </tr>\n",
              "    <tr>\n",
              "      <th>2</th>\n",
              "      <td>I'm attempting to transfer files from my home ...</td>\n",
              "      <td>2</td>\n",
              "      <td>attempt transfer file home comput run window t...</td>\n",
              "    </tr>\n",
              "    <tr>\n",
              "      <th>3</th>\n",
              "      <td>\\nThen not murdering would have no moral signi...</td>\n",
              "      <td>0</td>\n",
              "      <td>murder would moral signific sinc would noth vo...</td>\n",
              "    </tr>\n",
              "    <tr>\n",
              "      <th>4</th>\n",
              "      <td>\\nI could give much the same testimonial about...</td>\n",
              "      <td>0</td>\n",
              "      <td>could give much testimoni experi scout back is...</td>\n",
              "    </tr>\n",
              "  </tbody>\n",
              "</table>\n",
              "</div>\n",
              "      <button class=\"colab-df-convert\" onclick=\"convertToInteractive('df-3191a66a-5b14-493b-9b4e-9a024c8bb282')\"\n",
              "              title=\"Convert this dataframe to an interactive table.\"\n",
              "              style=\"display:none;\">\n",
              "        \n",
              "  <svg xmlns=\"http://www.w3.org/2000/svg\" height=\"24px\"viewBox=\"0 0 24 24\"\n",
              "       width=\"24px\">\n",
              "    <path d=\"M0 0h24v24H0V0z\" fill=\"none\"/>\n",
              "    <path d=\"M18.56 5.44l.94 2.06.94-2.06 2.06-.94-2.06-.94-.94-2.06-.94 2.06-2.06.94zm-11 1L8.5 8.5l.94-2.06 2.06-.94-2.06-.94L8.5 2.5l-.94 2.06-2.06.94zm10 10l.94 2.06.94-2.06 2.06-.94-2.06-.94-.94-2.06-.94 2.06-2.06.94z\"/><path d=\"M17.41 7.96l-1.37-1.37c-.4-.4-.92-.59-1.43-.59-.52 0-1.04.2-1.43.59L10.3 9.45l-7.72 7.72c-.78.78-.78 2.05 0 2.83L4 21.41c.39.39.9.59 1.41.59.51 0 1.02-.2 1.41-.59l7.78-7.78 2.81-2.81c.8-.78.8-2.07 0-2.86zM5.41 20L4 18.59l7.72-7.72 1.47 1.35L5.41 20z\"/>\n",
              "  </svg>\n",
              "      </button>\n",
              "      \n",
              "  <style>\n",
              "    .colab-df-container {\n",
              "      display:flex;\n",
              "      flex-wrap:wrap;\n",
              "      gap: 12px;\n",
              "    }\n",
              "\n",
              "    .colab-df-convert {\n",
              "      background-color: #E8F0FE;\n",
              "      border: none;\n",
              "      border-radius: 50%;\n",
              "      cursor: pointer;\n",
              "      display: none;\n",
              "      fill: #1967D2;\n",
              "      height: 32px;\n",
              "      padding: 0 0 0 0;\n",
              "      width: 32px;\n",
              "    }\n",
              "\n",
              "    .colab-df-convert:hover {\n",
              "      background-color: #E2EBFA;\n",
              "      box-shadow: 0px 1px 2px rgba(60, 64, 67, 0.3), 0px 1px 3px 1px rgba(60, 64, 67, 0.15);\n",
              "      fill: #174EA6;\n",
              "    }\n",
              "\n",
              "    [theme=dark] .colab-df-convert {\n",
              "      background-color: #3B4455;\n",
              "      fill: #D2E3FC;\n",
              "    }\n",
              "\n",
              "    [theme=dark] .colab-df-convert:hover {\n",
              "      background-color: #434B5C;\n",
              "      box-shadow: 0px 1px 3px 1px rgba(0, 0, 0, 0.15);\n",
              "      filter: drop-shadow(0px 1px 2px rgba(0, 0, 0, 0.3));\n",
              "      fill: #FFFFFF;\n",
              "    }\n",
              "  </style>\n",
              "\n",
              "      <script>\n",
              "        const buttonEl =\n",
              "          document.querySelector('#df-3191a66a-5b14-493b-9b4e-9a024c8bb282 button.colab-df-convert');\n",
              "        buttonEl.style.display =\n",
              "          google.colab.kernel.accessAllowed ? 'block' : 'none';\n",
              "\n",
              "        async function convertToInteractive(key) {\n",
              "          const element = document.querySelector('#df-3191a66a-5b14-493b-9b4e-9a024c8bb282');\n",
              "          const dataTable =\n",
              "            await google.colab.kernel.invokeFunction('convertToInteractive',\n",
              "                                                     [key], {});\n",
              "          if (!dataTable) return;\n",
              "\n",
              "          const docLinkHtml = 'Like what you see? Visit the ' +\n",
              "            '<a target=\"_blank\" href=https://colab.research.google.com/notebooks/data_table.ipynb>data table notebook</a>'\n",
              "            + ' to learn more about interactive tables.';\n",
              "          element.innerHTML = '';\n",
              "          dataTable['output_type'] = 'display_data';\n",
              "          await google.colab.output.renderOutput(dataTable, element);\n",
              "          const docLink = document.createElement('div');\n",
              "          docLink.innerHTML = docLinkHtml;\n",
              "          element.appendChild(docLink);\n",
              "        }\n",
              "      </script>\n",
              "    </div>\n",
              "  </div>\n",
              "  "
            ],
            "text/plain": [
              "                                            category  Target  \\\n",
              "0  I just moved from Borland C++ 3.0 to Visual C+...       2   \n",
              "1  \\n: \\tNice cop out bill.\\n\\nI'm sure you're ri...       0   \n",
              "2  I'm attempting to transfer files from my home ...       2   \n",
              "3  \\nThen not murdering would have no moral signi...       0   \n",
              "4  \\nI could give much the same testimonial about...       0   \n",
              "\n",
              "                                      category_clean  \n",
              "0  move borland visual today tri compil program c...  \n",
              "1  nice cop bill sure right idea refer would mind...  \n",
              "2  attempt transfer file home comput run window t...  \n",
              "3  murder would moral signific sinc would noth vo...  \n",
              "4  could give much testimoni experi scout back is...  "
            ]
          },
          "execution_count": 61,
          "metadata": {},
          "output_type": "execute_result"
        }
      ],
      "source": [
        "df.head()"
      ]
    },
    {
      "cell_type": "markdown",
      "metadata": {
        "id": "HqIKmsZgINOF"
      },
      "source": [
        "create vector representation of each document using TF-IDF encoding"
      ]
    },
    {
      "cell_type": "code",
      "execution_count": null,
      "metadata": {
        "id": "s6JBDGtLJVIr"
      },
      "outputs": [],
      "source": [
        "from sklearn.feature_extraction.text import TfidfVectorizer"
      ]
    },
    {
      "cell_type": "code",
      "execution_count": null,
      "metadata": {
        "id": "3RA04VESIdg1"
      },
      "outputs": [],
      "source": [
        "tfidf_vectorizer = TfidfVectorizer(analyzer=\"word\", max_df=0.3, min_df=10, ngram_range=(1, 2), norm=\"l2\")"
      ]
    },
    {
      "cell_type": "code",
      "execution_count": null,
      "metadata": {
        "id": "cqIViQPuLjx5"
      },
      "outputs": [],
      "source": [
        "tfidf_vect_result=tfidf_vectorizer.fit_transform(df[\"category_clean\"])"
      ]
    },
    {
      "cell_type": "code",
      "execution_count": null,
      "metadata": {
        "colab": {
          "base_uri": "https://localhost:8080/"
        },
        "id": "51s6_WePJag7",
        "outputId": "7629be96-0b6f-4697-b391-5b91bdb128e9"
      },
      "outputs": [
        {
          "name": "stdout",
          "output_type": "stream",
          "text": [
            "Unique word (ngram) vector extract:\n",
            "\n",
            " applic                129\n",
            "diamond speedstar     719\n",
            "sever                2504\n",
            "hawgood              1215\n",
            "poulin               2132\n",
            "knee                 1479\n",
            "app                   124\n",
            "folk                 1024\n",
            "red sox              2296\n",
            "singl                2551\n",
            "dtype: int64\n"
          ]
        }
      ],
      "source": [
        "# Vector representation of vocabulary\n",
        "word_vector = pd.Series(tfidf_vectorizer.vocabulary_).sample(10, random_state=1)\n",
        "print(f\"Unique word (ngram) vector extract:\\n\\n {word_vector}\")"
      ]
    },
    {
      "cell_type": "markdown",
      "metadata": {
        "id": "TGfuq3OrK-mH"
      },
      "source": [
        "##Kmeans and Kmeans++"
      ]
    },
    {
      "cell_type": "markdown",
      "metadata": {
        "id": "wb1ujtNaRhds"
      },
      "source": [
        "Apply Kmeans and Kmeans++ on the above extracted document vectors. Brifely describe how would you select the value of k. \n",
        "You can use https://scikit-learn.org/stable/modules/generated/sklearn.cluster.k_means.html#sklearn.cluster.k_means "
      ]
    },
    {
      "cell_type": "code",
      "execution_count": null,
      "metadata": {
        "id": "g6jP3rEkRhdw"
      },
      "outputs": [],
      "source": [
        "# TODO code for Task 4. Note, you just need to change init parameter to swtich between random intilization and k-means++ initialization. \n",
        "#init{‘k-means++’, ‘random’}, callable or array-like of shape (n_clusters, n_features), default=’k-means++’"
      ]
    },
    {
      "cell_type": "code",
      "execution_count": null,
      "metadata": {
        "id": "d3oCD2z0Mpq0"
      },
      "outputs": [],
      "source": [
        "import sklearn\n",
        "from sklearn.cluster import KMeans"
      ]
    },
    {
      "cell_type": "markdown",
      "metadata": {
        "id": "6ZpLnU4AO0UN"
      },
      "source": [
        "###KMeans"
      ]
    },
    {
      "cell_type": "code",
      "execution_count": null,
      "metadata": {
        "colab": {
          "base_uri": "https://localhost:8080/"
        },
        "id": "jwiCX7zhLRFV",
        "outputId": "b119a52b-c8f6-484d-db99-d5681d087484"
      },
      "outputs": [
        {
          "data": {
            "text/plain": [
              "KMeans(init='random', max_iter=200, n_clusters=5, tol=1.0)"
            ]
          },
          "execution_count": 70,
          "metadata": {},
          "output_type": "execute_result"
        }
      ],
      "source": [
        "KM = KMeans(n_clusters = 5, init = 'random', n_init = 10, max_iter = 200, tol = 1e-0)\n",
        "KM.fit(tfidf_vect_result)"
      ]
    },
    {
      "cell_type": "code",
      "execution_count": null,
      "metadata": {
        "colab": {
          "base_uri": "https://localhost:8080/"
        },
        "id": "iJjC6R6OOLbr",
        "outputId": "216d652f-a2a2-4936-e31a-3cd67440db1e"
      },
      "outputs": [
        {
          "name": "stdout",
          "output_type": "stream",
          "text": [
            "#iterations >>>>>  12\n",
            "predicted labels >>>>>  [0 0 2 ... 3 0 4]\n"
          ]
        }
      ],
      "source": [
        "print('#iterations >>>>> ', KM.n_iter_)\n",
        "print('predicted labels >>>>> ',KM.labels_)"
      ]
    },
    {
      "cell_type": "code",
      "execution_count": null,
      "metadata": {
        "colab": {
          "base_uri": "https://localhost:8080/"
        },
        "id": "Yy2DaOrPNcZt",
        "outputId": "e3e2435b-bc8f-4bf1-f11d-b91e70b5f38d"
      },
      "outputs": [
        {
          "name": "stdout",
          "output_type": "stream",
          "text": [
            "Homogeneity: 0.365\n",
            "Completeness: 0.392\n",
            "V-measure: 0.378\n",
            "Silhouette Coefficient: 0.008\n",
            "mutual_info_score_plus_plus 0.5866808162490376\n"
          ]
        }
      ],
      "source": [
        "import sklearn.metrics as metrics\n",
        "print(\"Homogeneity >>>>> %0.3f\" % metrics.homogeneity_score(df[\"Target\"], KM.labels_))\n",
        "print(\"Completeness >>>>> %0.3f\" % metrics.completeness_score(df[\"Target\"], KM.labels_))\n",
        "print(\"V-measure >>>>> %0.3f\" % metrics.v_measure_score(df[\"Target\"], KM.labels_))\n",
        "print(\"Silhouette Coefficient >>>>> %0.3f\"\n",
        "      % metrics.silhouette_score(tfidf_vect_result, KM.labels_, sample_size=1000))\n",
        "mutual_info_score_plus=metrics.mutual_info_score(df[\"Target\"], KM.labels_)\n",
        "print(\"mutual_info_score_plus_plus >>>>> \",mutual_info_score_plus)"
      ]
    },
    {
      "cell_type": "markdown",
      "metadata": {
        "id": "Urt_nyaEO_vT"
      },
      "source": [
        "###KMeans++"
      ]
    },
    {
      "cell_type": "code",
      "execution_count": null,
      "metadata": {
        "colab": {
          "base_uri": "https://localhost:8080/"
        },
        "id": "m5wzBkXmO_vU",
        "outputId": "836fd2e9-a235-4e3f-b1ed-580c40ed6f55"
      },
      "outputs": [
        {
          "data": {
            "text/plain": [
              "KMeans(max_iter=200, n_clusters=5, tol=1.0)"
            ]
          },
          "execution_count": 76,
          "metadata": {},
          "output_type": "execute_result"
        }
      ],
      "source": [
        "KM_plus = KMeans(n_clusters = 5, init = 'k-means++', n_init = 10, max_iter = 200, tol = 1e-0)\n",
        "KM_plus.fit(tfidf_vect_result)"
      ]
    },
    {
      "cell_type": "code",
      "execution_count": null,
      "metadata": {
        "colab": {
          "base_uri": "https://localhost:8080/"
        },
        "id": "Mmdar9YSO_vW",
        "outputId": "ee3d56ff-1a89-4c38-e583-dd979d6cca9d"
      },
      "outputs": [
        {
          "name": "stdout",
          "output_type": "stream",
          "text": [
            "#iterations >>>>>  12\n",
            "predicted labels >>>>>  [3 4 3 ... 1 4 3]\n"
          ]
        }
      ],
      "source": [
        "print('#iterations >>>>> ', KM_plus.n_iter_)\n",
        "print('predicted labels >>>>> ',KM_plus.labels_)"
      ]
    },
    {
      "cell_type": "code",
      "execution_count": null,
      "metadata": {
        "colab": {
          "base_uri": "https://localhost:8080/"
        },
        "id": "eTOyVN78O_vY",
        "outputId": "f53d9090-b0b7-47f5-9ee0-f60f6820f473"
      },
      "outputs": [
        {
          "name": "stdout",
          "output_type": "stream",
          "text": [
            "Homogeneity: 0.378\n",
            "Completeness: 0.414\n",
            "V-measure: 0.395\n",
            "Silhouette Coefficient: 0.008\n",
            "mutual_info_score_plus_plus 0.6067455285123855\n"
          ]
        }
      ],
      "source": [
        "import sklearn.metrics as metrics\n",
        "print(\"Homogeneity >>>>> %0.3f\" % metrics.homogeneity_score(df[\"Target\"], KM_plus.labels_))\n",
        "print(\"Completeness >>>>> %0.3f\" % metrics.completeness_score(df[\"Target\"], KM_plus.labels_))\n",
        "print(\"V-measure >>>>> %0.3f\" % metrics.v_measure_score(df[\"Target\"], KM_plus.labels_))\n",
        "print(\"Silhouette Coefficient >>>>> %0.3f\"\n",
        "      % metrics.silhouette_score(tfidf_vect_result, KM_plus.labels_, sample_size=1000))\n",
        "mutual_info_score_plus=metrics.mutual_info_score(df[\"Target\"], KM_plus.labels_)\n",
        "print(\"mutual_info_score_plus_plus >>>>>\",mutual_info_score_plus)"
      ]
    },
    {
      "cell_type": "markdown",
      "metadata": {
        "id": "SO1pX5mLTDnx"
      },
      "source": [
        "###KMeans With TruncatedSVD "
      ]
    },
    {
      "cell_type": "markdown",
      "metadata": {
        "id": "VmdcqcMGRhdz"
      },
      "source": [
        "Task 5: perform tricks on the above two approaches by considering the high-dimensional nature of the dataset, you can consider PCA (from sklearn.decomposition import PCA), or other methods. "
      ]
    },
    {
      "cell_type": "code",
      "execution_count": null,
      "metadata": {
        "id": "3gEtgQ3mTwkx"
      },
      "outputs": [],
      "source": [
        "from sklearn.decomposition import TruncatedSVD, PCA"
      ]
    },
    {
      "cell_type": "code",
      "execution_count": 83,
      "metadata": {
        "id": "_YetXgqYUEX1"
      },
      "outputs": [],
      "source": [
        "tfidf_vect_result_SVD = TruncatedSVD(n_components = 2).fit_transform(tfidf_vect_result)"
      ]
    },
    {
      "cell_type": "code",
      "execution_count": 84,
      "metadata": {
        "colab": {
          "base_uri": "https://localhost:8080/"
        },
        "outputId": "f70ea5be-fd57-443d-e947-d5dba9d32fcb",
        "id": "j4Axo9usU-Pi"
      },
      "outputs": [
        {
          "output_type": "execute_result",
          "data": {
            "text/plain": [
              "KMeans(init='random', max_iter=200, n_clusters=5, tol=1.0)"
            ]
          },
          "metadata": {},
          "execution_count": 84
        }
      ],
      "source": [
        "KM_SVD = KMeans(n_clusters = 5, init = 'random', n_init = 10, max_iter = 200, tol = 1e-0)\n",
        "KM_SVD.fit(tfidf_vect_result_SVD)"
      ]
    },
    {
      "cell_type": "code",
      "execution_count": 85,
      "metadata": {
        "colab": {
          "base_uri": "https://localhost:8080/"
        },
        "outputId": "ae0ac97d-83b0-4875-d332-3ca9594683a1",
        "id": "3cI-aK4cU-Pk"
      },
      "outputs": [
        {
          "output_type": "stream",
          "name": "stdout",
          "text": [
            "#iterations >>>>>  2\n",
            "predicted labels >>>>>  [2 1 3 ... 0 4 2]\n"
          ]
        }
      ],
      "source": [
        "print('#iterations >>>>> ', KM_SVD.n_iter_)\n",
        "print('predicted labels >>>>> ',KM_SVD.labels_)"
      ]
    },
    {
      "cell_type": "code",
      "execution_count": 87,
      "metadata": {
        "colab": {
          "base_uri": "https://localhost:8080/"
        },
        "outputId": "5829c65f-3a45-4b94-d7b6-f640a00bb7f9",
        "id": "qgTBbk1yU-Pk"
      },
      "outputs": [
        {
          "output_type": "stream",
          "name": "stdout",
          "text": [
            "Homogeneity >>>>> 0.279\n",
            "Completeness >>>>> 0.285\n",
            "V-measure >>>>> 0.282\n",
            "Silhouette Coefficient >>>>> 0.003\n",
            "mutual_info_score_plus_plus >>>>>  0.44876298939668535\n"
          ]
        }
      ],
      "source": [
        "import sklearn.metrics as metrics\n",
        "print(\"Homogeneity >>>>> %0.3f\" % metrics.homogeneity_score(df[\"Target\"], KM_SVD.labels_))\n",
        "print(\"Completeness >>>>> %0.3f\" % metrics.completeness_score(df[\"Target\"], KM_SVD.labels_))\n",
        "print(\"V-measure >>>>> %0.3f\" % metrics.v_measure_score(df[\"Target\"], KM_SVD.labels_))\n",
        "print(\"Silhouette Coefficient >>>>> %0.3f\"\n",
        "      % metrics.silhouette_score(tfidf_vect_result, KM_SVD.labels_, sample_size=1000))\n",
        "mutual_info_score_plus=metrics.mutual_info_score(df[\"Target\"], KM_SVD.labels_)\n",
        "print(\"mutual_info_score_plus_plus >>>>> \",mutual_info_score_plus)"
      ]
    },
    {
      "cell_type": "markdown",
      "metadata": {
        "id": "keB1iCAHVjBE"
      },
      "source": [
        "###KMeans++ With TruncatedSVD "
      ]
    },
    {
      "cell_type": "code",
      "execution_count": 88,
      "metadata": {
        "id": "eRXgrjJ1VjBG"
      },
      "outputs": [],
      "source": [
        "tfidf_vect_result_SVD = TruncatedSVD(n_components = 2).fit_transform(tfidf_vect_result)"
      ]
    },
    {
      "cell_type": "code",
      "execution_count": 89,
      "metadata": {
        "colab": {
          "base_uri": "https://localhost:8080/"
        },
        "outputId": "15b5d48b-cde4-49e7-e4c0-bc612ada5798",
        "id": "B6Ndqkf_VjBG"
      },
      "outputs": [
        {
          "output_type": "execute_result",
          "data": {
            "text/plain": [
              "KMeans(max_iter=200, n_clusters=5, tol=1.0)"
            ]
          },
          "metadata": {},
          "execution_count": 89
        }
      ],
      "source": [
        "KM_plus_SVD = KMeans(n_clusters = 5, init = 'k-means++', n_init = 10, max_iter = 200, tol = 1e-0)\n",
        "KM_plus_SVD.fit(tfidf_vect_result_SVD)"
      ]
    },
    {
      "cell_type": "code",
      "execution_count": 90,
      "metadata": {
        "colab": {
          "base_uri": "https://localhost:8080/"
        },
        "outputId": "115f5f14-d988-4dba-d1c6-2702c9776416",
        "id": "XtFLPy5HVjBH"
      },
      "outputs": [
        {
          "output_type": "stream",
          "name": "stdout",
          "text": [
            "#iterations >>>>>  1\n",
            "predicted labels >>>>>  [0 4 2 ... 3 4 0]\n"
          ]
        }
      ],
      "source": [
        "print('#iterations >>>>> ', KM_plus_SVD.n_iter_)\n",
        "print('predicted labels >>>>> ',KM_plus_SVD.labels_)"
      ]
    },
    {
      "cell_type": "code",
      "execution_count": 91,
      "metadata": {
        "colab": {
          "base_uri": "https://localhost:8080/"
        },
        "outputId": "e3eb5f75-9870-457e-d413-a4f8a10ac06e",
        "id": "ZOLn5JugVjBH"
      },
      "outputs": [
        {
          "output_type": "stream",
          "name": "stdout",
          "text": [
            "Homogeneity >>>>> 0.281\n",
            "Completeness >>>>> 0.289\n",
            "V-measure >>>>> 0.285\n",
            "Silhouette Coefficient >>>>> 0.003\n",
            "mutual_info_score_plus_plus >>>>>  0.45176145502446996\n"
          ]
        }
      ],
      "source": [
        "import sklearn.metrics as metrics\n",
        "print(\"Homogeneity >>>>> %0.3f\" % metrics.homogeneity_score(df[\"Target\"], KM_plus_SVD.labels_))\n",
        "print(\"Completeness >>>>> %0.3f\" % metrics.completeness_score(df[\"Target\"], KM_plus_SVD.labels_))\n",
        "print(\"V-measure >>>>> %0.3f\" % metrics.v_measure_score(df[\"Target\"], KM_plus_SVD.labels_))\n",
        "print(\"Silhouette Coefficient >>>>> %0.3f\"\n",
        "      % metrics.silhouette_score(tfidf_vect_result, KM_plus_SVD.labels_, sample_size=1000))\n",
        "mutual_info_score_plus=metrics.mutual_info_score(df[\"Target\"], KM_plus_SVD.labels_)\n",
        "print(\"mutual_info_score_plus_plus >>>>> \",mutual_info_score_plus)"
      ]
    },
    {
      "cell_type": "markdown",
      "source": [
        "###Performance comparison"
      ],
      "metadata": {
        "id": "GWEKXSaeWn_f"
      }
    },
    {
      "cell_type": "markdown",
      "metadata": {
        "id": "G5DL7Z7VRhd3"
      },
      "source": [
        "Task 6: compare the performance of the above four approaches on the given dataset using mutual information based scores: https://scikit-learn.org/stable/modules/generated/sklearn.metrics.mutual_info_score.html "
      ]
    },
    {
      "cell_type": "code",
      "execution_count": 93,
      "metadata": {
        "colab": {
          "base_uri": "https://localhost:8080/"
        },
        "id": "ghs2-9FCIfNf",
        "outputId": "a8545c98-471a-4a3f-ebb4-9c8b0925b789"
      },
      "outputs": [
        {
          "output_type": "stream",
          "name": "stdout",
          "text": [
            "K-means score >>>>>  0.5866808162490376\n",
            "K-mean++ score >>>>>  0.6067455285123855\n",
            "K-means With TruncatedSVD score >>>>>  0.44876298939668535\n",
            "K-means++ With TruncatedSVD score >>>>>  0.45176145502446996\n"
          ]
        }
      ],
      "source": [
        "print('K-means score >>>>> ', metrics.mutual_info_score(df[\"Target\"],KM.labels_))\n",
        "print('K-mean++ score >>>>> ',metrics.mutual_info_score(df[\"Target\"],KM_plus.labels_))\n",
        "print('K-means With TruncatedSVD score >>>>> ',metrics.mutual_info_score(df[\"Target\"],KM_SVD.labels_))\n",
        "print('K-means++ With TruncatedSVD score >>>>> ',metrics.mutual_info_score(df[\"Target\"],KM_plus_SVD.labels_))"
      ]
    },
    {
      "cell_type": "markdown",
      "source": [
        "###Using Elbow to  select best K (Number of clusters)"
      ],
      "metadata": {
        "id": "TwBKda3DYmTu"
      }
    },
    {
      "cell_type": "code",
      "source": [
        "distortions = []\n",
        "for i in range(1, 12):\n",
        "    km = KMeans(\n",
        "        n_clusters=i, init='random',\n",
        "        n_init=10, max_iter=200,\n",
        "        tol=1e-04\n",
        "    )\n",
        "    km.fit(tfidf_vect_result_SVD)\n",
        "    distortions.append(km.inertia_)\n",
        "\n",
        "plt.figure(figsize=(10,8))\n",
        "plt.plot(range(1, 12), distortions, marker='o')\n",
        "plt.xlabel('Number of clusters (K)')\n",
        "plt.ylabel('Distortion')\n",
        "plt.show()"
      ],
      "metadata": {
        "colab": {
          "base_uri": "https://localhost:8080/",
          "height": 497
        },
        "id": "rdDWivodYZhc",
        "outputId": "5d28566c-e8a3-4936-cb66-92adf7b8a04e"
      },
      "execution_count": 97,
      "outputs": [
        {
          "output_type": "display_data",
          "data": {
            "text/plain": [
              "<Figure size 720x576 with 1 Axes>"
            ],
            "image/png": "[encoded data removed]"
          },
          "metadata": {
            "needs_background": "light"
          }
        }
      ]
    },
    {
      "cell_type": "markdown",
      "source": [
        "best number of clusters (K) is >>>>>  5"
      ],
      "metadata": {
        "id": "dya8tV_EaFUH"
      }
    },
    {
      "cell_type": "code",
      "source": [],
      "metadata": {
        "id": "fx-I863OY02H"
      },
      "execution_count": null,
      "outputs": []
    }
  ],
  "metadata": {
    "colab": {
      "provenance": [],
      "collapsed_sections": [
        "3089SaULzeXh",
        "wP1Zal3u35v9"
      ]
    },
    "kernelspec": {
      "display_name": "Python 3",
      "name": "python3"
    },
    "language_info": {
      "name": "python"
    }
  },
  "nbformat": 4,
  "nbformat_minor": 0
}